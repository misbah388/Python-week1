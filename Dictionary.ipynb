{
 "cells": [
  {
   "cell_type": "code",
   "execution_count": null,
   "id": "eabff2a1",
   "metadata": {},
   "outputs": [],
   "source": []
  },
  {
   "cell_type": "code",
   "execution_count": null,
   "id": "c69d5faa",
   "metadata": {},
   "outputs": [],
   "source": []
  },
  {
   "cell_type": "code",
   "execution_count": 3,
   "id": "8520ef9b",
   "metadata": {},
   "outputs": [
    {
     "name": "stdout",
     "output_type": "stream",
     "text": [
      "Enter your first name======>  Ali\n",
      "\n",
      "Enter your last name======>   Khan\n",
      "\n",
      "Enter your Address======>  Basti\n",
      "\n",
      "Enter your Rollnumber======>  69\n",
      "\n",
      "Enter your first name======>  Asif\n",
      "\n",
      "Enter your last name======>   Khan\n",
      "\n",
      "Enter your Address======>  Sinawan\n",
      "\n",
      "Enter your Rollnumber======>  34\n"
     ]
    },
    {
     "data": {
      "text/plain": [
       "{'Ali': ['Ali', 'Khan', 'Basti', '69'],\n",
       " 'Asif': ['Asif', 'Khan', 'Sinawan', '34']}"
      ]
     },
     "execution_count": 3,
     "metadata": {},
     "output_type": "execute_result"
    }
   ],
   "source": [
    "\n",
    "Dic={}\n",
    "FN=input(\"Enter your first name======>  \")\n",
    "LN=input(\"\\nEnter your last name======>   \")\n",
    "AD=input(\"\\nEnter your Address======>  \")\n",
    "RN=input(\"\\nEnter your Rollnumber======>  \")\n",
    "Dic.update({FN:[FN,LN,AD,RN]})\n",
    "\n",
    "FN=input(\"\\nEnter your first name======>  \")\n",
    "LN=input(\"\\nEnter your last name======>   \")\n",
    "AD=input(\"\\nEnter your Address======>  \")\n",
    "RN=input(\"\\nEnter your Rollnumber======>  \")\n",
    "Dic.update({FN:[FN,LN,AD,RN]})\n",
    "Dic"
   ]
  },
  {
   "cell_type": "code",
   "execution_count": 1,
   "id": "c73ba2df",
   "metadata": {},
   "outputs": [
    {
     "name": "stdout",
     "output_type": "stream",
     "text": [
      "enter your name===>  Misbah\n",
      "Still searching\n"
     ]
    }
   ],
   "source": [
    "Name=input(\"enter your name===>  \")\n",
    "if \"Muhammad Ali\" in Name:\n",
    "    print(\"Congrats\")\n",
    "else:\n",
    "    print(\"Still searching\")\n",
    "  "
   ]
  },
  {
   "cell_type": "code",
   "execution_count": null,
   "id": "23d622cd",
   "metadata": {},
   "outputs": [],
   "source": [
    "Dic.update({\"Stu2\":{FN,RN,FaN,GR}})\n",
    "    Dic.update({\"Stu3\":{FN,RN,FaN,GR}}) \n",
    "    Dic.update({\"Stu4\":{FN,RN,FaN,GR}}) \n",
    "    Dic.update({\"Stu5\":{FN,RN,FaN,GR}})"
   ]
  }
 ],
 "metadata": {
  "kernelspec": {
   "display_name": "Python 3 (ipykernel)",
   "language": "python",
   "name": "python3"
  },
  "language_info": {
   "codemirror_mode": {
    "name": "ipython",
    "version": 3
   },
   "file_extension": ".py",
   "mimetype": "text/x-python",
   "name": "python",
   "nbconvert_exporter": "python",
   "pygments_lexer": "ipython3",
   "version": "3.9.7"
  }
 },
 "nbformat": 4,
 "nbformat_minor": 5
}
